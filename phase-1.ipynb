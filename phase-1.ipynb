{
 "cells": [
  {
   "cell_type": "markdown",
   "id": "358d026d",
   "metadata": {},
   "source": [
    "## Numpy array and basics"
   ]
  },
  {
   "cell_type": "code",
   "execution_count": null,
   "id": "8bb21873",
   "metadata": {},
   "outputs": [],
   "source": [
    "import numpy as np "
   ]
  },
  {
   "cell_type": "markdown",
   "id": "185d5127",
   "metadata": {},
   "source": [
    "### Creating array from list"
   ]
  },
  {
   "cell_type": "code",
   "execution_count": null,
   "id": "a84ead8e",
   "metadata": {},
   "outputs": [],
   "source": [
    "arr_1d = np.array([1,2,3,4,5])\n",
    "print (\"1D array: \", arr_1d)\n",
    "arr_2d = np.array([[1,2,3], [4,5,6]])\n",
    "print (\"2D array: \", arr_2d)\n",
    "\n"
   ]
  }
 ],
 "metadata": {
  "language_info": {
   "name": "python"
  }
 },
 "nbformat": 4,
 "nbformat_minor": 5
}
