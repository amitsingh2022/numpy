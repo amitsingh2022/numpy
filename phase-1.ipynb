{
 "cells": [
  {
   "cell_type": "markdown",
   "id": "358d026d",
   "metadata": {},
   "source": [
    "## Numpy array and basics"
   ]
  },
  {
   "cell_type": "code",
   "execution_count": 8,
   "id": "8bb21873",
   "metadata": {},
   "outputs": [],
   "source": [
    "import numpy as np"
   ]
  },
  {
   "cell_type": "markdown",
   "id": "185d5127",
   "metadata": {},
   "source": [
    "### Creating array from list"
   ]
  },
  {
   "cell_type": "code",
   "execution_count": 5,
   "id": "a84ead8e",
   "metadata": {},
   "outputs": [
    {
     "name": "stdout",
     "output_type": "stream",
     "text": [
      "1D array:  [1 2 3 4 5]\n",
      "2D array:  [[1 2 3]\n",
      " [4 5 6]]\n"
     ]
    }
   ],
   "source": [
    "arr_1d = np.array([1,2,3,4,5])\n",
    "print (\"1D array: \", arr_1d)\n",
    "arr_2d = np.array([[1,2,3], [4,5,6]])\n",
    "print (\"2D array: \", arr_2d)"
   ]
  },
  {
   "cell_type": "markdown",
   "id": "7c40fbdf",
   "metadata": {},
   "source": [
    "###List Vs Numpy    "
   ]
  },
  {
   "cell_type": "code",
   "execution_count": 11,
   "id": "233d2985",
   "metadata": {},
   "outputs": [
    {
     "name": "stdout",
     "output_type": "stream",
     "text": [
      "python list multiplacation [1, 2, 3, 1, 2, 3]\n",
      "python array multiplacation [2 4 6 8]\n",
      "\n",
      " List operation time:  0.15096092224121094\n",
      "\n",
      " Numpy operation time:  0.007954120635986328\n"
     ]
    }
   ],
   "source": [
    "py_list = [1,2,3]\n",
    "print (\"python list multiplacation\", py_list * 2 )\n",
    "\n",
    "np_array = np.array ([1,2,3,4])\n",
    "print (\"python array multiplacation\", np_array * 2 )\n",
    "\n",
    "import time\n",
    "start = time.time()\n",
    "py_list =[i*2 for i in range (1000000)]\n",
    "print (\"\\n List operation time: \", time.time()- start)\n",
    "\n",
    "start =time.time()\n",
    "np_array = np.arange(1000000) * 2\n",
    "print (\"\\n Numpy operation time: \", time.time ()- start)"
   ]
  },
  {
   "cell_type": "markdown",
   "id": "77bbffb5",
   "metadata": {},
   "source": [
    "### Creating array from scratch"
   ]
  },
  {
   "cell_type": "code",
   "execution_count": 19,
   "id": "8c25e7ea",
   "metadata": {},
   "outputs": [
    {
     "name": "stdout",
     "output_type": "stream",
     "text": [
      "zeros array: \n",
      " [[0. 0. 0. 0.]\n",
      " [0. 0. 0. 0.]\n",
      " [0. 0. 0. 0.]]\n",
      "one array: \n",
      " [[1. 1. 1. 1.]\n",
      " [1. 1. 1. 1.]\n",
      " [1. 1. 1. 1.]]\n",
      "full array: \n",
      " [[7 7]\n",
      " [7 7]]\n",
      "random array: \n",
      " [[0.23229008 0.66950059 0.18643675]\n",
      " [0.14741752 0.67550601 0.01748893]]\n",
      "sequence array: \n",
      " [0 2 4 6 8]\n"
     ]
    }
   ],
   "source": [
    "zeros = np.zeros((3,4))\n",
    "print (\"zeros array: \\n\", zeros)\n",
    "\n",
    "ones = np.ones ((3,4))\n",
    "print (\"one array: \\n\", ones)\n",
    "\n",
    "full = np.full ((2,2),7)\n",
    "print (\"full array: \\n\", full)\n",
    "\n",
    "random = np.random.random((2,3))\n",
    "print (\"random array: \\n\", random)\n",
    "\n",
    "sequence = np.arange(0, 10, 2)\n",
    "print (\"sequence array: \\n\", sequence)"
   ]
  },
  {
   "cell_type": "markdown",
   "id": "8c1129fc",
   "metadata": {},
   "source": [
    "### Vector, Matrix & Tensor "
   ]
  },
  {
   "cell_type": "code",
   "execution_count": null,
   "id": "ff3c88a1",
   "metadata": {},
   "outputs": [
    {
     "name": "stdout",
     "output_type": "stream",
     "text": [
      "Vector: [1 2 3 4]\n",
      "Matrix : [[1 2 3]\n",
      " [4 5 6]]\n"
     ]
    },
    {
     "name": "stderr",
     "output_type": "stream",
     "text": [
      "<>:8: SyntaxWarning: list indices must be integers or slices, not tuple; perhaps you missed a comma?\n",
      "<>:8: SyntaxWarning: list indices must be integers or slices, not tuple; perhaps you missed a comma?\n",
      "C:\\Users\\AMIT\\AppData\\Local\\Temp\\ipykernel_4988\\2805575466.py:8: SyntaxWarning: list indices must be integers or slices, not tuple; perhaps you missed a comma?\n",
      "  tensor = np.array([[[1,2],[3,4]]\n"
     ]
    },
    {
     "ename": "TypeError",
     "evalue": "list indices must be integers or slices, not tuple",
     "output_type": "error",
     "traceback": [
      "\u001b[31m---------------------------------------------------------------------------\u001b[39m",
      "\u001b[31mTypeError\u001b[39m                                 Traceback (most recent call last)",
      "\u001b[36mCell\u001b[39m\u001b[36m \u001b[39m\u001b[32mIn[23]\u001b[39m\u001b[32m, line 8\u001b[39m\n\u001b[32m      4\u001b[39m matrix = np.array([[\u001b[32m1\u001b[39m,\u001b[32m2\u001b[39m,\u001b[32m3\u001b[39m],\n\u001b[32m      5\u001b[39m                    [\u001b[32m4\u001b[39m,\u001b[32m5\u001b[39m,\u001b[32m6\u001b[39m,]])\n\u001b[32m      6\u001b[39m \u001b[38;5;28mprint\u001b[39m(\u001b[33m\"\u001b[39m\u001b[33mMatrix :\u001b[39m\u001b[33m\"\u001b[39m, matrix)\n\u001b[32m----> \u001b[39m\u001b[32m8\u001b[39m tensor = np.array([\u001b[43m[\u001b[49m\u001b[43m[\u001b[49m\u001b[32;43m1\u001b[39;49m\u001b[43m,\u001b[49m\u001b[32;43m2\u001b[39;49m\u001b[43m]\u001b[49m\u001b[43m,\u001b[49m\u001b[43m[\u001b[49m\u001b[32;43m3\u001b[39;49m\u001b[43m,\u001b[49m\u001b[32;43m4\u001b[39;49m\u001b[43m]\u001b[49m\u001b[43m]\u001b[49m\n\u001b[32m      9\u001b[39m \u001b[43m                   \u001b[49m\u001b[43m[\u001b[49m\u001b[43m[\u001b[49m\u001b[32;43m5\u001b[39;49m\u001b[43m,\u001b[49m\u001b[32;43m6\u001b[39;49m\u001b[43m]\u001b[49m\u001b[43m,\u001b[49m\u001b[43m[\u001b[49m\u001b[32;43m7\u001b[39;49m\u001b[43m,\u001b[49m\u001b[32;43m8\u001b[39;49m\u001b[43m]\u001b[49m\u001b[43m]\u001b[49m])\n",
      "\u001b[31mTypeError\u001b[39m: list indices must be integers or slices, not tuple"
     ]
    }
   ],
   "source": [
    "vector = np.array([1,2,3,4])\n",
    "print(\"Vector:\", vector)\n",
    "\n",
    "matrix = np.array([[1,2,3],\n",
    "                   [4,5,6,]])\n",
    "print(\"Matrix :\", matrix)\n",
    "\n",
    "tensor = np.array([[[1,2],[3,4]],\n",
    "                   [[5,6],[7,8]]])\n",
    "print(\"Tensor :\", tensor)"
   ]
  }
 ],
 "metadata": {
  "kernelspec": {
   "display_name": ".venv (3.13.3)",
   "language": "python",
   "name": "python3"
  },
  "language_info": {
   "codemirror_mode": {
    "name": "ipython",
    "version": 3
   },
   "file_extension": ".py",
   "mimetype": "text/x-python",
   "name": "python",
   "nbconvert_exporter": "python",
   "pygments_lexer": "ipython3",
   "version": "3.13.3"
  }
 },
 "nbformat": 4,
 "nbformat_minor": 5
}
