{
 "cells": [
  {
   "cell_type": "markdown",
   "id": "362d68d8",
   "metadata": {},
   "source": [
    "## Advance operation with business examples"
   ]
  },
  {
   "cell_type": "code",
   "execution_count": 5,
   "id": "ccc68c0d",
   "metadata": {},
   "outputs": [],
   "source": [
    "import numpy as np\n",
    "import matplotlib.pyplot as plt"
   ]
  },
  {
   "cell_type": "code",
   "execution_count": 9,
   "id": "a8c28cc5",
   "metadata": {},
   "outputs": [
    {
     "name": "stdout",
     "output_type": "stream",
     "text": [
      "==== Zomato Sales analysis ====\n",
      "\n",
      " Sales data shape (5, 5)\n",
      "\n",
      " Sample data for first three resturant: [[     1 150000 180000 220000 250000]\n",
      " [     2 120000 140000 160000 190000]\n",
      " [     3 200000 230000 260000 300000]]\n"
     ]
    }
   ],
   "source": [
    "\n",
    "# Data Structure: [restaurant_id, 2021, 2022, 2023, 2024]\n",
    "sales_data = np.array([\n",
    "    [1, 150000, 180000, 220000, 250000], # Paradise Biryani\n",
    "    [2, 120000, 140000, 160000, 190000], # Beijing Bites\n",
    "    [3, 200000, 230000, 260000, 300000], # Pizza Hub\n",
    "    [4, 180000, 210000, 240000, 270000], # Burger Point\n",
    "    [5, 160000, 185000, 205000, 230000]  # Chai Point\n",
    "])\n",
    "\n",
    "print(\"==== Zomato Sales analysis ====\")\n",
    "print(\"\\n Sales data shape\",sales_data.shape)\n",
    "print (\"\\n Sample data for first three resturant:\", sales_data[0:3])"
   ]
  },
  {
   "cell_type": "code",
   "execution_count": null,
   "id": "29e8b93a",
   "metadata": {},
   "outputs": [
    {
     "name": "stdout",
     "output_type": "stream",
     "text": [
      "[     15  810000  945000 1085000 1240000]\n",
      "[ 810000  945000 1085000 1240000]\n",
      "[150000 120000 200000 180000 160000]\n",
      "[200000 230000 260000 300000]\n"
     ]
    }
   ],
   "source": [
    "# totol sales per year \n",
    "print (np.sum(sales_data, axis=0))\n",
    "yearly_total = np.sum(sales_data[:, 1:], axis=0 )\n",
    "print (yearly_total)\n",
    "\n",
    "# Minimum Sales Per Resturant\n",
    "min_sales = np.min(sales_data[:, 1:], axis=1)\n",
    "print(min_sales)\n",
    "\n",
    "# Maximum Sales per year \n",
    "max_sales = np.max(sales_data[:, 1:], axis=0)\n",
    "print(max_sales)\n",
    "\n",
    "# Average Sales per Resturant\n",
    "avg_sales = np.mean(sales_data [:, 1:], axis=1)\n",
    "print (avg_sales)"
   ]
  }
 ],
 "metadata": {
  "kernelspec": {
   "display_name": ".venv (3.13.3)",
   "language": "python",
   "name": "python3"
  },
  "language_info": {
   "codemirror_mode": {
    "name": "ipython",
    "version": 3
   },
   "file_extension": ".py",
   "mimetype": "text/x-python",
   "name": "python",
   "nbconvert_exporter": "python",
   "pygments_lexer": "ipython3",
   "version": "3.13.3"
  }
 },
 "nbformat": 4,
 "nbformat_minor": 5
}
